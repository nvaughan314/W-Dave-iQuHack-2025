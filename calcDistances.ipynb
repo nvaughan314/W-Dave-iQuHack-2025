{
 "cells": [
  {
   "cell_type": "markdown",
   "metadata": {},
   "source": [
    "## This script calculates distances between every randomly generated location using locations.csv\n",
    "This script will produce a matrix containing the the pairwise distances between every location\n",
    "- The distance between location 1 and location to will be contained at i = 1, j = 2\n",
    "    - Note that this means the matrix is symmetrical across the main diagonal so it doesn't matter what you pull"
   ]
  },
  {
   "cell_type": "code",
   "execution_count": 31,
   "metadata": {},
   "outputs": [],
   "source": [
    "import numpy as np\n",
    "import csv"
   ]
  },
  {
   "cell_type": "code",
   "execution_count": 32,
   "metadata": {},
   "outputs": [
    {
     "name": "stdout",
     "output_type": "stream",
     "text": [
      "Number of locations: 10\n"
     ]
    }
   ],
   "source": [
    "# Import locations to get # locations\n",
    "reader = csv.reader(open(\"locations.csv\", \"r\"), delimiter=\",\")\n",
    "x = list(reader)\n",
    "locations = np.array(x).astype(\"float\")\n",
    "nLocations = len(locations)\n",
    "print(\"Number of locations: \" + str(nLocations))"
   ]
  },
  {
   "cell_type": "code",
   "execution_count": 33,
   "metadata": {},
   "outputs": [],
   "source": [
    "# Calculate distances\n",
    "distances = np.empty((nLocations,nLocations))\n",
    "for i in range(nLocations):\n",
    "    for j in range(nLocations):\n",
    "        loc1 = locations[i]\n",
    "        loc2 = locations[j]\n",
    "        distance = np.sqrt(np.power((loc1[0]-loc2[0]),2) + np.power((loc1[1]-loc2[1]),2))\n",
    "        distances[i,j] = distance"
   ]
  },
  {
   "cell_type": "code",
   "execution_count": 34,
   "metadata": {},
   "outputs": [],
   "source": [
    "# Write to csv\n",
    "np.savetxt('distances.csv', distances, delimiter=',') "
   ]
  }
 ],
 "metadata": {
  "kernelspec": {
   "display_name": "Python 3",
   "language": "python",
   "name": "python3"
  },
  "language_info": {
   "codemirror_mode": {
    "name": "ipython",
    "version": 3
   },
   "file_extension": ".py",
   "mimetype": "text/x-python",
   "name": "python",
   "nbconvert_exporter": "python",
   "pygments_lexer": "ipython3",
   "version": "3.11.4"
  }
 },
 "nbformat": 4,
 "nbformat_minor": 2
}
