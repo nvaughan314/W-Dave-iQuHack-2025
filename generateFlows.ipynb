{
 "cells": [
  {
   "cell_type": "markdown",
   "metadata": {},
   "source": [
    "## This script randomly generates flow rates to be used between facilities in a QAP\n",
    "You can select whether the random flow rates of materials between two given facilities follows a uniform distribution or a gaussian (normal) distribution\n",
    "Data is structured in the same way as distances, e.g. the flow rate between facilties m and n is at i = m, j = n\n",
    "- Matrix is symmetrical as before\n",
    "\n",
    "Note that a flow rate at an index, e.g. 1, 8, DOES NOT correspond to a specific location or distance relationship--the facilities must be assigned to appropriate locations; this is the whole point of the problem"
   ]
  },
  {
   "cell_type": "code",
   "execution_count": 8,
   "metadata": {},
   "outputs": [],
   "source": [
    "import numpy as np\n",
    "import csv\n",
    "import random\n",
    "import matplotlib.pyplot as plot"
   ]
  },
  {
   "cell_type": "code",
   "execution_count": 9,
   "metadata": {},
   "outputs": [],
   "source": [
    "# Crucial variables\n",
    "maxFlow = 10\n",
    "\n",
    "# If want uniform:\n",
    "#distribution = 0\n",
    "# If want gaussian:\n",
    "distribution = 1\n",
    "# If want constant value:\n",
    "#distribution = 2"
   ]
  },
  {
   "cell_type": "code",
   "execution_count": 10,
   "metadata": {},
   "outputs": [
    {
     "name": "stdout",
     "output_type": "stream",
     "text": [
      "Number of locations: 25\n"
     ]
    }
   ],
   "source": [
    "# Import locations to get # locations\n",
    "reader = csv.reader(open(\"locations.csv\", \"r\"), delimiter=\",\")\n",
    "x = list(reader)\n",
    "locations = np.array(x).astype(\"float\")\n",
    "nLocations = len(locations)\n",
    "print(\"Number of locations: \" + str(nLocations))"
   ]
  },
  {
   "cell_type": "code",
   "execution_count": 11,
   "metadata": {},
   "outputs": [],
   "source": [
    "# Generate empty array\n",
    "flows = np.empty((nLocations,nLocations))\n",
    "for i in range(nLocations):\n",
    "    for j in range(nLocations):\n",
    "        if distribution == 0:\n",
    "            flow = random.uniform(0,maxFlow)\n",
    "        elif distribution == 1:\n",
    "            # if i == j:\n",
    "            #     flow = 0\n",
    "            # elif i % 3 == 0 and j % 3 == 0:\n",
    "            flow = np.random.normal(0,maxFlow/5)\n",
    "            #     flow = 100\n",
    "            # else:\n",
    "            #     flow = 1\n",
    "                #flow = np.random.normal(0,maxFlow/5)\n",
    "            #flow = np.random.normal(0,maxFlow/5)\n",
    "        elif distribution == 2:\n",
    "            flow = 10\n",
    "        else:\n",
    "            raise ValueError(\"Select a valid distribution type up top\")\n",
    "        \n",
    "        flows[i,j] = flow\n",
    "        flows[j,i] = -flow"
   ]
  },
  {
   "cell_type": "code",
   "execution_count": 12,
   "metadata": {},
   "outputs": [],
   "source": [
    "# Write to csv\n",
    "np.savetxt('flows.csv', flows, delimiter=',') "
   ]
  },
  {
   "cell_type": "code",
   "execution_count": 13,
   "metadata": {},
   "outputs": [
    {
     "data": {
      "image/png": "[encoded data removed]",
      "text/plain": [
       "<Figure size 640x480 with 1 Axes>"
      ]
     },
     "metadata": {},
     "output_type": "display_data"
    }
   ],
   "source": [
    "# Plot to confirm distribution\n",
    "plot.hist(flows,bins=10)\n",
    "plot.show()"
   ]
  }
 ],
 "metadata": {
  "kernelspec": {
   "display_name": "Python 3",
   "language": "python",
   "name": "python3"
  },
  "language_info": {
   "codemirror_mode": {
    "name": "ipython",
    "version": 3
   },
   "file_extension": ".py",
   "mimetype": "text/x-python",
   "name": "python",
   "nbconvert_exporter": "python",
   "pygments_lexer": "ipython3",
   "version": "3.11.4"
  }
 },
 "nbformat": 4,
 "nbformat_minor": 2
}
